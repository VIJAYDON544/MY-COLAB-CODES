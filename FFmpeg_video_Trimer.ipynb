{
  "nbformat": 4,
  "nbformat_minor": 0,
  "metadata": {
    "colab": {
      "provenance": [],
      "collapsed_sections": [],
      "mount_file_id": "19RiKDyLn661Mo5-jQACAfIknMN4lfve-",
      "authorship_tag": "ABX9TyOKyiqbEXeV8jIiQcFfReDn",
      "include_colab_link": true
    },
    "kernelspec": {
      "name": "python3",
      "display_name": "Python 3"
    },
    "language_info": {
      "name": "python"
    }
  },
  "cells": [
    {
      "cell_type": "markdown",
      "metadata": {
        "id": "view-in-github",
        "colab_type": "text"
      },
      "source": [
        "<a href=\"https://colab.research.google.com/github/VIJAYDON544/MY-COLAB-CODES/blob/main/FFmpeg_video_Trimer.ipynb\" target=\"_parent\"><img src=\"https://colab.research.google.com/assets/colab-badge.svg\" alt=\"Open In Colab\"/></a>"
      ]
    },
    {
      "cell_type": "markdown",
      "source": [
        "<h1><center><b>Video Trimer with Metadata adder\n",
        "\n",
        "---\n",
        "\n",
        "<br><center><img src=\"https://upload.wikimedia.org/wikipedia/commons/thumb/7/76/FFmpeg_icon.svg/96px-FFmpeg_icon.svg.png?20130721172940\" height=\"200\" alt=\"FFmpeg-logo' \"/></center>\n",
        "\n",
        "---\n",
        "\n"
      ],
      "metadata": {
        "id": "ccu-1Dp74_Md"
      }
    },
    {
      "cell_type": "code",
      "execution_count": null,
      "metadata": {
        "cellView": "form",
        "id": "NYKCmfawhprt"
      },
      "outputs": [],
      "source": [
        "#@title <h1><center><b>CONNECT YOUR GOOGLE-DRIVE\n",
        "#@markdown <center><img src=\"https://cdn.arstechnica.net/wp-content/uploads/2021/07/Google-Drive.jpg\" height=\"300\" alt=\"FFmpeg-logo' \"/></center>\n",
        "from google.colab import drive\n",
        "drive.mount('/content/drive')"
      ]
    },
    {
      "cell_type": "markdown",
      "source": [
        "<h1><b><center>ADD YOUR FOLDER PATH HERE"
      ],
      "metadata": {
        "id": "k6wAyGigrbj0"
      }
    },
    {
      "cell_type": "code",
      "source": [
        "cd \"\""
      ],
      "metadata": {
        "colab": {
          "base_uri": "https://localhost:8080/"
        },
        "id": "YTACj8IOoEtz",
        "outputId": "fbd46790-0c75-4371-aacc-890a1c221c81"
      },
      "execution_count": null,
      "outputs": [
        {
          "output_type": "stream",
          "name": "stdout",
          "text": [
            "\n"
          ]
        }
      ]
    },
    {
      "cell_type": "markdown",
      "source": [
        "<h1><b><center>List Of Files In Your Folder\n"
      ],
      "metadata": {
        "id": "_LBd-5IhrpX8"
      }
    },
    {
      "cell_type": "code",
      "source": [
        "ls"
      ],
      "metadata": {
        "id": "VlW8MPVWrN67"
      },
      "execution_count": null,
      "outputs": []
    },
    {
      "cell_type": "code",
      "source": [
        "#@title <h1><center><b>Video Trimer with Metadata adder\n",
        "#@markdown <h2><b><center>In This Script U Need To Provide Specific nubmer to <u><br>All VIDEOs,AUDIOs,Subtitles Codces</u><br>Without ReEncode the File\n",
        "#@markdown <br><center><img src=\"https://upload.wikimedia.org/wikipedia/commons/thumb/7/76/FFmpeg_icon.svg/96px-FFmpeg_icon.svg.png?20130721172940\" height=\"50\" alt=\"FFmpeg-logo' \"/></center>\n",
        "\n",
        "input_name = \"\" #@param {type:\"string\"}\n",
        "start_time = \"00:00:00\" #@param {type:\"string\"}\n",
        "End_time = \"00:00:00\" #@param {type:\"string\"}\n",
        "Video_num = \"\" #@param {type:\"string\"}\n",
        "Audio_num_1 = \"\" #@param {type:\"string\"}\n",
        "Audio_num_2 = \"\" #@param {type:\"string\"}\n",
        "Audio_num_3 = \"\" #@param {type:\"string\"}\n",
        "Subtitle_num = \"\" #@param {type:\"string\"}\n",
        "output_Folder_name = \"\" #@param {type:\"string\"}\n",
        "output_name = \"\" #@param {type:\"string\"}\n",
        "#@markdown\n",
        "#@markdown <br><center><img src=\"https://upload.wikimedia.org/wikipedia/commons/thumb/7/76/FFmpeg_icon.svg/96px-FFmpeg_icon.svg.png?20130721172940\" height=\"50\" alt=\"FFmpeg-logo' \"/></center>\n",
        "\n",
        "#@markdown <h1><center><b>\"output_name\"with Video file extension [Eg:-.mkv,.mp4,.avi]\n",
        "#@markdown <h1><center><b>MetaData Should be Edit on code <u>\"click on show code and edit the metadata info\"\n",
        "\n",
        "!ffmpeg -hide_banner -i \"$input_name\" \\\n",
        "-ss \"$start_time\" \\\n",
        "-to \"$End_time\" \\\n",
        "-c copy -map 0:v:\"$Video_num\" \\\n",
        "-map 0:a:\"$Audio_num_1\" -map 0:a:\"$Audio_num_2\" -map 0:a:\"$Audio_num_3\" -map 0:s:\"$Subtitle_num\" \\\n",
        "-metadata title=\"🔰www.1hdmovies737.ml🔰- Encode By DON\"\\\n",
        "-metadata:s:v:0 title=\"🔰www.1hdmovies737.ml🔰\" -metadata:s:v:0 language=tel\\\n",
        "-metadata:s:a:0 title=\"🔰www.1hdmovies737.ml🔰-TELUGU\" -metadata:s:a:0 language=tel\\\n",
        "-metadata:s:a:1 title=\"🔰www.1hdmovies737.ml🔰-TAMIL\" -metadata:s:a:1 language=tam\\\n",
        "-metadata:s:a:2 title=\"🔰www.1hdmovies737.ml🔰-MALAYALAM\" -metadata:s:a:2 language=mal\\\n",
        "-metadata:s:s:0 title=\"🔰www.1hdmovies737.ml🔰-ENGLISH\" -metadata:s:s:0 language=eng\\\n",
        "$output_Folder_name/\"$output_name\"\n",
        "\n"
      ],
      "metadata": {
        "cellView": "form",
        "id": "2n_fEzoth8Lj"
      },
      "execution_count": null,
      "outputs": []
    },
    {
      "cell_type": "code",
      "source": [
        "#@title <h1><center><b>Video Trimer with Metadata adder\n",
        "#@markdown <h2><b><center>This Script will copy <u><br>All VIDEOs,AUDIOs,Subtitles Codces</u><br>Without ReEncode the File\n",
        "#@markdown <br><center><img src=\"https://upload.wikimedia.org/wikipedia/commons/thumb/7/76/FFmpeg_icon.svg/96px-FFmpeg_icon.svg.png?20130721172940\" height=\"50\" alt=\"FFmpeg-logo' \"/></center>\n",
        "\n",
        "input_name = \"\" #@param {type:\"string\"}\n",
        "start_time = \"00:00:00\" #@param {type:\"string\"}\n",
        "End_time = \"00:00:00\" #@param {type:\"string\"}\n",
        "output_Folder_name = \"\" #@param {type:\"string\"}\n",
        "output_name = \"\" #@param {type:\"string\"}\n",
        "#@markdown\n",
        "#@markdown <br><center><img src=\"https://upload.wikimedia.org/wikipedia/commons/thumb/7/76/FFmpeg_icon.svg/96px-FFmpeg_icon.svg.png?20130721172940\" height=\"50\" alt=\"FFmpeg-logo' \"/></center>\n",
        "\n",
        "#@markdown <h1><center><b>\"output_name\"with Video file extension [Eg:-.mkv,.mp4,.avi]\n",
        "#@markdown <h1><center><b>MetaData Should be Edit on code <u>\"click on show code and edit the metadata info\"\n",
        "\n",
        "!ffmpeg -hide_banner -i \"$input_name\" \\\n",
        "-ss \"$start_time\" \\\n",
        "-to \"$End_time\" \\\n",
        "-map 0 -c:v copy -c:a copy -c:s copy \\\n",
        "-metadata title=\"🔰www.1hdmovies737.ml🔰- Encode By DON\"\\\n",
        "-metadata:s:v:0 title=\"🔰www.1hdmovies737.ml🔰\" -metadata:s:v:0 language=tel\\\n",
        "-metadata:s:a:0 title=\"🔰www.1hdmovies737.ml🔰-TELUGU\" -metadata:s:a:0 language=tel\\\n",
        "-metadata:s:a:1 title=\"🔰www.1hdmovies737.ml🔰-TAMIL\" -metadata:s:a:1 language=tam\\\n",
        "-metadata:s:a:2 title=\"🔰www.1hdmovies737.ml🔰-MALAYALAM\" -metadata:s:a:2 language=mal\\\n",
        "-metadata:s:s:0 title=\"🔰www.1hdmovies737.ml🔰-ENGLISH\" -metadata:s:s:0 language=eng\\\n",
        "$output_Folder_name/\"$output_name\""
      ],
      "metadata": {
        "cellView": "form",
        "id": "McuQGCcFCReo"
      },
      "execution_count": null,
      "outputs": []
    },
    {
      "cell_type": "markdown",
      "source": [
        "<center><h1><b>IF ANY ISSUE PLS REPORT ON TELEGRAM GROUP<br>\n",
        "<a href=\"https://t.me/ffmpeg_telugu\">CLICK HERE</a>"
      ],
      "metadata": {
        "id": "BNKzMoyAFhQc"
      }
    }
  ]
}