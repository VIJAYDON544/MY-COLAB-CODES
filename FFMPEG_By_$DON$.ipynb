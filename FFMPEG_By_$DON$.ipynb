{
  "nbformat": 4,
  "nbformat_minor": 0,
  "metadata": {
    "colab": {
      "name": "FFMPEG By $DON$.ipynb",
      "provenance": [],
      "mount_file_id": "1vi6OY-rvOJ1DuTmNRER4Mi3acfC9WWkq",
      "authorship_tag": "ABX9TyNNxHcAjeXkAbV7TowMUBT4",
      "include_colab_link": true
    },
    "kernelspec": {
      "name": "python3",
      "display_name": "Python 3"
    },
    "language_info": {
      "name": "python"
    }
  },
  "cells": [
    {
      "cell_type": "markdown",
      "metadata": {
        "id": "view-in-github",
        "colab_type": "text"
      },
      "source": [
        "<a href=\"https://colab.research.google.com/github/VIJAYDON544/MY-COLAB-CODES/blob/main/FFMPEG_By_%24DON%24.ipynb\" target=\"_parent\"><img src=\"https://colab.research.google.com/assets/colab-badge.svg\" alt=\"Open In Colab\"/></a>"
      ]
    },
    {
      "cell_type": "code",
      "execution_count": null,
      "metadata": {
        "colab": {
          "base_uri": "https://localhost:8080/"
        },
        "id": "BhmYhm4-LU6c",
        "outputId": "2c49a794-d67f-41bc-dbef-cb656402536c"
      },
      "outputs": [
        {
          "output_type": "stream",
          "name": "stdout",
          ]
        }
      ],
      "source": [
        "#@title  { display-mode: \"form\" }\n",
        "#@title  { display-mode: \"form\" }\n",
        "#@markdown <br><center><img src=\"https://upload.wikimedia.org/wikipedia/commons/thumb/d/da/Google_Drive_logo.png/600px-Google_Drive_logo.png\" height=\"50\" alt=\"Gdrive-logo' \"/></center>\n",
        "#@markdown <center><h3>Connect to Google Account</h3></center><br>\n",
        "from google.colab import drive\n",
        "drive.mount('/content/gdrive')"
      ]
    },
    {
      "cell_type": "code",
      "source": [
        "#@title { display-mode : \"form\" }\n",
        "#@title { display-mode : \"form\" }\n",
        "#@markdown <br><center><img src=\"https://upload.wikimedia.org/wikipedia/commons/thumb/7/76/FFmpeg_icon.svg/96px-FFmpeg_icon.svg.png?20130721172940\" height=\"50\" alt=\"FFmpeg-logo' \"/></center>\n",
        "#@markdown <center><h3>FFmpeg File Checker </h3></center><br>\n",
        "input_filename = \"Enter your Filename or filepath To Check Your file\" #@param {type:\"string\"}\n",
        "!ffmpeg -hide_banner -i \"$input_filename\"\n"
      ],
      "metadata": {
        "id": "g73iRFRuO_pg"
      },
      "execution_count": null,
      "outputs": []
    },
    {
      "cell_type": "code",
      "source": [
        "#@title { display-mode : \"form\" }\n",
        "#@title { display-mode : \"form\" }\n",
        "#@markdown <br><center><img src=\"https://upload.wikimedia.org/wikipedia/commons/thumb/7/76/FFmpeg_icon.svg/96px-FFmpeg_icon.svg.png?20130721172940\" height=\"50\" alt=\"FFmpeg-logo' \"/></center>\n",
        "#@markdown <center><h3>FFmpeg AUDIO EXTRACTOR</h3></center><br>\n",
        "input_filename = \"Enter your Filename or filepath\" #@param {type:\"string\"}\n",
        "output_filename = \"Enter your Filename or filepath with Extension\" #@param {type:\"string\"}\n",
        "#@markdown 👆🏿FILE WITH EXTENSION\n",
        "#@markdown 👆🏿Eg :- file.eac3, file.dts ETC.\n",
        "audio_number = \"Enter your Audio or Track Number\" #@param {type:\"string\"}\n",
        "!ffmpeg -hide_banner -i \"$input_filename\" -vn -c copy -map 0:a:$audio_number \"$output_filename\"\n"
      ],
      "metadata": {
        "id": "_HFi1dyXMU44"
      },
      "execution_count": null,
      "outputs": []
    }
  ]
}
